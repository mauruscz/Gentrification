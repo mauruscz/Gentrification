{
 "cells": [
  {
   "cell_type": "code",
   "execution_count": null,
   "metadata": {},
   "outputs": [],
   "source": [
    "from ABM_MeanField_Cells.model import GentModel\n",
    "import pandas as pd\n",
    "import numpy as np\n",
    "import matplotlib.pyplot as plt\n",
    "import seaborn as sns\n",
    "from matplotlib.animation import FuncAnimation\n",
    "from matplotlib.ticker import FuncFormatter\n",
    "import matplotlib.gridspec as gridspec\n",
    "\n",
    "\n",
    "import colorcet as cc\n",
    "\n",
    "\n",
    "np.set_printoptions(linewidth=400)\n",
    "\n",
    "%matplotlib inline\n",
    "\n",
    "import os\n",
    "#set a nice seaborn style\n"
   ]
  },
  {
   "cell_type": "code",
   "execution_count": 3,
   "metadata": {},
   "outputs": [],
   "source": [
    "sns.set()\n",
    "sns.set(rc={'figure.figsize':(16,9)})\n",
    "sns.set_style(\"whitegrid\")\n",
    "sns.set_context(\"talk\")\n"
   ]
  },
  {
   "cell_type": "code",
   "execution_count": 4,
   "metadata": {},
   "outputs": [],
   "source": [
    "SAVEDATA = True\n"
   ]
  },
  {
   "cell_type": "code",
   "execution_count": 5,
   "metadata": {},
   "outputs": [],
   "source": [
    "termination_condition = True\n",
    "starting_deployment = \"centre_segr\""
   ]
  },
  {
   "cell_type": "code",
   "execution_count": null,
   "metadata": {},
   "outputs": [],
   "source": [
    "n_steps = 100\n",
    "num_agents = 2**12\n",
    "#initialize the model\n",
    "model = GentModel(num_agents= num_agents, width=7, height = 7, mode = \"improve\", starting_deployment =starting_deployment, \n",
    "                  p_g = 0.05, h = 10, \n",
    "                  empty_border=0, seed = 67, termination_condition=termination_condition)"
   ]
  },
  {
   "cell_type": "code",
   "execution_count": null,
   "metadata": {},
   "outputs": [],
   "source": [
    "model.capacity"
   ]
  },
  {
   "cell_type": "code",
   "execution_count": null,
   "metadata": {},
   "outputs": [],
   "source": [
    "model.presence_matrix"
   ]
  },
  {
   "cell_type": "code",
   "execution_count": null,
   "metadata": {},
   "outputs": [],
   "source": [
    "presence = np.zeros((model.width, model.height))\n",
    "for cell in model.grid.coord_iter():\n",
    "    presence[cell[1]] = len(cell[0])\n",
    "\n",
    "fig, ax = plt.subplots()\n",
    "sns.heatmap(presence, cmap=\"Purples\")\n",
    "plt.xlabel(\"X\", fontsize=38)\n",
    "plt.ylabel(\"Y\", fontsize=38)\n",
    "#titl\n",
    "plt.title(\"Number of agents per cell\", fontsize=38)\n"
   ]
  },
  {
   "cell_type": "code",
   "execution_count": 11,
   "metadata": {},
   "outputs": [],
   "source": [
    "palette = sns.color_palette(cc.glasbey, n_colors=model.width*model.height)"
   ]
  },
  {
   "cell_type": "code",
   "execution_count": null,
   "metadata": {},
   "outputs": [],
   "source": [
    "from matplotlib.colors import LogNorm\n",
    "import numpy as np\n",
    "import matplotlib.pyplot as plt\n",
    "import seaborn as sns\n",
    "from matplotlib.ticker import FuncFormatter\n",
    "\n",
    "# Data for the histogram plot\n",
    "incomes = [agent.wealth for agent in model.schedule.agents]\n",
    "types = [agent.tipo for agent in model.schedule.agents]\n",
    "\n",
    "incomes_agents = list(zip(incomes, types))\n",
    "incomes_agents.sort(reverse=True)\n",
    "incomes, types = zip(*incomes_agents)\n",
    "\n",
    "def millions_formatter(x, pos):\n",
    "    return f'{x / 1_000_000}M'\n",
    "\n",
    "# Function to format x-axis labels in thousands (k)\n",
    "def thousands_formatter(x, pos):\n",
    "    return f'{int(x / 1_000)}k'\n",
    "\n",
    "# Data for the heatmap plot\n",
    "avgs = np.zeros((model.width, model.height))\n",
    "\n",
    "for i in range(model.width):\n",
    "    for j in range(model.height):\n",
    "        cell_content = model.grid.get_cell_list_contents((i, j))\n",
    "        avg_wealth = np.median([agent.wealth for agent in cell_content])\n",
    "        avgs[i, j] = avg_wealth\n",
    "\n",
    "# Create subplots with a squared figsize\n",
    "fig, (ax1, ax2) = plt.subplots(1, 2, figsize=(16, 8), gridspec_kw={'width_ratios': [1, 1]})\n",
    "\n",
    "# First subplot (now on the left): Heatmap of the median incomes\n",
    "sns.heatmap(avgs, cmap=\"rocket_r\", square=True, ax=ax1, \n",
    "            cbar_kws={'label': 'Wealth', 'orientation': 'horizontal', \"shrink\": 0.68, 'pad': 0.12}, \n",
    "            linewidths=3, norm=LogNorm(vmin=avgs.min(), vmax=avgs.max()))\n",
    "\n",
    "# Customize the color bar\n",
    "# Customize the color bar\n",
    "cbar = ax1.collections[0].colorbar\n",
    "cbar.set_label('Median Income', fontsize=20, weight='bold')\n",
    "# Move the label above the color bar\n",
    "cbar.ax.xaxis.label.set_position((0.5, 1.2))  # Adjust position above the color bar\n",
    "cbar.ax.xaxis.set_label_coords(0.5, 2.6)  # Fine-tune label position above the bar\n",
    "# Adjust ticks for the horizontal color bar\n",
    "cbar.ax.tick_params(labelsize=24, pad=12)  # Adjust tick size and padding\n",
    "cbar.ax.xaxis.set_major_formatter(FuncFormatter(thousands_formatter))  # Format ticks as thousands\n",
    "\n",
    "\n",
    "ax1.set_xticks([])\n",
    "ax1.set_yticks([])\n",
    "\n",
    "for spine in ax1.spines.values():\n",
    "    spine.set_visible(False)\n",
    "\n",
    "# Second subplot (now on the right): Plotting the incomes with colored markers based on agent type\n",
    "indices = np.arange(len(incomes))\n",
    "\n",
    "# Convert incomes and types to NumPy arrays for masking\n",
    "incomes = np.array(incomes)\n",
    "types = np.array(types)\n",
    "\n",
    "# Color and label mappings\n",
    "color_map = {'A': '#2a4b7a', 'B': '#00957c', 'C': '#f54333'}\n",
    "label_map = {'A': 'H', 'B': 'M', 'C': 'L'}\n",
    "\n",
    "# Plot all points for each agent type in a single command\n",
    "for agent_type in ['A', 'B', 'C']:\n",
    "    mask = (types == agent_type)\n",
    "    marker = '*' if agent_type == 'A' else 'o'\n",
    "    marker_size = 16 if agent_type == 'A' else 14\n",
    "    ax2.plot(indices[mask], incomes[mask], marker, markersize=marker_size, alpha=1,\n",
    "             color=color_map[agent_type], linestyle='None', label=label_map[agent_type])\n",
    "\n",
    "# Remove duplicate labels (if any)\n",
    "handles, labels = ax2.get_legend_handles_labels()\n",
    "by_label = dict(zip(labels, handles))\n",
    "ax2.legend(by_label.values(), by_label.keys(), fontsize=28, title='Agent Type', title_fontsize=30, loc='upper right')\n",
    "\n",
    "ax2.set_xlabel(\"Agents (ranked)\", fontsize=34)\n",
    "ax2.set_ylabel(\"Income (USD)\", fontsize=34)\n",
    "ax2.tick_params(axis='x', labelsize=28)\n",
    "#set xticks every 4000\n",
    "ax2.set_xticks(np.arange(0, len(incomes), 4000))\n",
    "ax2.tick_params(axis='y', labelsize=28)\n",
    "ax2.yaxis.set_major_formatter(FuncFormatter(millions_formatter))\n",
    "\n",
    "# Add grid and customize spines for the second plot\n",
    "ax2.grid(alpha=0.5, linestyle='--')\n",
    "ax2.spines['top'].set_visible(False)\n",
    "ax2.spines['right'].set_visible(False)\n",
    "ax2.spines['left'].set_linewidth(3)\n",
    "ax2.spines['bottom'].set_linewidth(3)\n",
    "\n",
    "ax2.spines['left'].set_color('black')\n",
    "ax2.spines['bottom'].set_color('black')\n",
    "\n",
    "# Adjust layout\n",
    "plt.tight_layout()\n",
    "plt.subplots_adjust(wspace=0.3)\n",
    "\n",
    "# Add the labels 'a)' and 'b)' using figure coordinates\n",
    "fig.canvas.draw()  # Necessary to update the positions\n",
    "\n",
    "# Get the positions of the axes in figure coordinates\n",
    "ax1_pos = ax1.get_position()\n",
    "ax2_pos = ax2.get_position()\n",
    "\n",
    "# Use the same y-coordinate for both labels\n",
    "label_y = ax1_pos.y1 + 0.03  # Slightly above the top of ax1\n",
    "\n",
    "# Place the labels using figure coordinates\n",
    "fig.text(ax1_pos.x0 - 0.05, label_y, 'a)', fontsize=30, fontweight='bold', va='bottom', ha='left')\n",
    "fig.text(ax2_pos.x0 - 0.1, label_y, 'b)', fontsize=30, fontweight='bold', va='bottom', ha='left')\n",
    "\n",
    "# Save with tight layout\n",
    "if SAVEDATA:\n",
    "     plt.savefig(\"income_ranked_heatmap_new.pdf\", format='pdf', bbox_inches='tight')\n",
    "\n",
    "# Show the plots\n",
    "plt.show()"
   ]
  },
  {
   "cell_type": "code",
   "execution_count": null,
   "metadata": {},
   "outputs": [],
   "source": [
    "#count A, B and C in types array\n",
    "\n",
    "A = types.count(\"A\")\n",
    "B = types.count(\"B\")\n",
    "C = types.count(\"C\")\n",
    "\n",
    "print(\"A: \", A, \"B: \", B, \"C: \", C)"
   ]
  },
  {
   "cell_type": "code",
   "execution_count": null,
   "metadata": {},
   "outputs": [],
   "source": [
    "model.run_model(n_steps)\n",
    "\n",
    "#while model.running and model.schedule.steps < n_steps:\n",
    "#    model.step()"
   ]
  },
  {
   "cell_type": "code",
   "execution_count": null,
   "metadata": {},
   "outputs": [],
   "source": [
    "#get the df of the datacollector\n",
    "df = model.datacollector.get_model_vars_dataframe()\n",
    "df_agents = model.datacollector.get_agent_vars_dataframe()"
   ]
  },
  {
   "cell_type": "code",
   "execution_count": null,
   "metadata": {},
   "outputs": [],
   "source": [
    "df.head()"
   ]
  },
  {
   "cell_type": "code",
   "execution_count": null,
   "metadata": {},
   "outputs": [],
   "source": [
    "df.columns"
   ]
  },
  {
   "cell_type": "code",
   "execution_count": null,
   "metadata": {},
   "outputs": [],
   "source": [
    "if SAVEDATA:\n",
    "\n",
    "    if termination_condition:\n",
    "        to_path = f\"out/termination/{starting_deployment}/\"\n",
    "        os.makedirs(to_path, exist_ok=True)\n",
    "    else:\n",
    "        to_path = f\"out/long/{starting_deployment}/\"\n",
    "        os.makedirs(to_path, exist_ok=True)\n",
    "\n",
    "    print(to_path)\n",
    "    df.to_csv(f\"{to_path}/results_model.csv\")\n",
    "    df_agents.to_csv(f\"{to_path}/results_agents.csv\")"
   ]
  },
  {
   "cell_type": "code",
   "execution_count": null,
   "metadata": {},
   "outputs": [],
   "source": []
  },
  {
   "cell_type": "code",
   "execution_count": null,
   "metadata": {},
   "outputs": [],
   "source": [
    "df_cells = df.copy()\n",
    "\n",
    "\n",
    "\n",
    "\n",
    "df_cell_median = df_cells[[\"median_richness_matrix\"]]\n",
    "#transform the dictionary into a list\n",
    "df_cell_median[\"median_richness_matrix\"] = df_cell_median[\"median_richness_matrix\"].apply(lambda x: list(x.flatten()))\n",
    "df_cell_median = df_cell_median[\"median_richness_matrix\"].apply(pd.Series)\n",
    "df_cell_median.index = df_cell_median.index + 1\n",
    "\n"
   ]
  },
  {
   "cell_type": "code",
   "execution_count": null,
   "metadata": {},
   "outputs": [],
   "source": [
    "sns.lineplot(data=df_cell_median, legend = False, palette = palette, linewidth=2.5, dashes=False, alpha = 0.8)\n",
    "\n",
    "plt.title(str(model.num_agents) +\" agents \"   + str(model.p_g) + \"p_g \" + str(model.h) +\"h\" , fontsize=30)\n",
    "plt.ylabel(\"Median Richness\", fontsize=25)\n",
    "plt.xlabel(\"Steps\", fontsize=25)\n",
    "#set xticks to appear every 10 steps\n",
    "#plt.xticks(np.arange(0, n_steps+1, 10));\n",
    "\n"
   ]
  },
  {
   "cell_type": "code",
   "execution_count": null,
   "metadata": {},
   "outputs": [],
   "source": [
    "df_cell_median = df_cell_median.drop(columns = 25)\n",
    "sns.lineplot(data=df_cell_median, legend = False, palette = palette, linewidth=2.5, dashes=False, alpha = 0.8)\n",
    "\n",
    "plt.title(str(model.num_agents) +\" agents \"   + str(model.p_g) + \"p_g \" + str(model.h) +\"h\" , fontsize=30)\n",
    "plt.ylabel(\"Median Richness\", fontsize=25)\n",
    "plt.xlabel(\"Steps\", fontsize=25)\n",
    "#set xticks to appear every 10 steps\n",
    "#plt.xticks(np.arange(0, n_steps+1, 10));\n",
    "\n"
   ]
  },
  {
   "cell_type": "code",
   "execution_count": null,
   "metadata": {},
   "outputs": [],
   "source": [
    "df_cell_median_smooth = df_cell_median.copy()\n",
    "df_cell_median_smooth = df_cell_median_smooth.rolling(model.h).mean()\n",
    "\n",
    "sns.lineplot(data=df_cell_median_smooth, legend = False, palette = palette, linewidth=2.5, dashes=False, alpha = 0.8)\n",
    "\n",
    "plt.title(str(model.num_agents) +\" agents \"   + str(model.p_g) + \"p_g \" + str(model.h) +\"h\" , fontsize=30)\n",
    "plt.ylabel(\"Median Richness\", fontsize=25)\n",
    "\n",
    "plt.xlabel(\"Steps\", fontsize=25)\n",
    "\n"
   ]
  },
  {
   "cell_type": "code",
   "execution_count": null,
   "metadata": {},
   "outputs": [],
   "source": [
    "df_unhappy = df.copy()\n",
    "df_unhappy = df_unhappy[[\"unhappy_C\", \"desire_to_move_C\"]]\n",
    "\n",
    "\n",
    "sns.lineplot(data=df_unhappy)\n"
   ]
  }
 ],
 "metadata": {
  "kernelspec": {
   "display_name": "Python 3",
   "language": "python",
   "name": "python3"
  },
  "language_info": {
   "codemirror_mode": {
    "name": "ipython",
    "version": 3
   },
   "file_extension": ".py",
   "mimetype": "text/x-python",
   "name": "python",
   "nbconvert_exporter": "python",
   "pygments_lexer": "ipython3",
   "version": "3.10.12"
  }
 },
 "nbformat": 4,
 "nbformat_minor": 2
}
